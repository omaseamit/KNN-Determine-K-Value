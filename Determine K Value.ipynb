{
 "cells": [
  {
   "cell_type": "markdown",
   "id": "3b50cfab",
   "metadata": {},
   "source": [
    "# Choosing a K Value "
   ]
  },
  {
   "cell_type": "code",
   "execution_count": 7,
   "id": "66551dfb",
   "metadata": {},
   "outputs": [],
   "source": [
    "import pandas as pd\n",
    "import numpy as np\n",
    "import matplotlib.pyplot as plt\n",
    "import seaborn as sns\n",
    "%matplotlib inline\n",
    "\n",
    "#ignore warnings\n",
    "import warnings\n",
    "warnings.filterwarnings('ignore')\n",
    "from sklearn.preprocessing import LabelEncoder"
   ]
  },
  {
   "cell_type": "code",
   "execution_count": 10,
   "id": "f0ab0e82",
   "metadata": {},
   "outputs": [],
   "source": [
    "from sklearn.neighbors import KNeighborsClassifier\n",
    "from sklearn.model_selection import train_test_split\n",
    "from sklearn import preprocessing\n",
    "\n",
    "df = pd.read_csv(r\"C:\\Users\\user\\Desktop\\DATA SCIENCE\\SpaceMissions (1).csv\")\n",
    "\n",
    "df['Mission Status New'] = LabelEncoder().fit_transform(df['Mission Status'])\n",
    "\n",
    "data = df.drop(['Company', 'Launch Date', 'Launch Time', 'Launch Site','Vehicle Type','Payload Name','Payload Type','Payload Orbit','Failure Reason','Payload Mass (kg)','Mission Status'], axis = 1)\n",
    "\n",
    "data = data.dropna()\n",
    "\n",
    "X_train, X_test, y_train, y_test = train_test_split(data.drop(['Mission Status New'],axis=1), \n",
    "                                                    data['Mission Status New'], test_size=0.20, \n",
    "                                                    random_state=10)\n",
    "knnmodel = KNeighborsClassifier()\n",
    "knnmodel.fit(X_train,y_train)\n",
    "\n",
    "knnmodel_predictions = knnmodel.predict(X_test)"
   ]
  },
  {
   "cell_type": "code",
   "execution_count": 11,
   "id": "f643d395",
   "metadata": {},
   "outputs": [],
   "source": [
    "error_rate = []\n",
    "\n",
    "# Will take some time\n",
    "for i in range(1,15):\n",
    "    \n",
    "    model1 = KNeighborsClassifier(n_neighbors=i)\n",
    "    model1.fit(X_train,y_train)\n",
    "    pred_i = model1.predict(X_test)\n",
    "    error_rate.append(np.mean(pred_i != y_test))"
   ]
  },
  {
   "cell_type": "code",
   "execution_count": 12,
   "id": "ca055547",
   "metadata": {},
   "outputs": [
    {
     "data": {
      "text/plain": [
       "Text(0, 0.5, 'Error Rate')"
      ]
     },
     "execution_count": 12,
     "metadata": {},
     "output_type": "execute_result"
    },
    {
     "data": {
      "image/png": "[encoded data removed]",
      "text/plain": [
       "<Figure size 1080x576 with 1 Axes>"
      ]
     },
     "metadata": {
      "needs_background": "light"
     },
     "output_type": "display_data"
    }
   ],
   "source": [
    "plt.figure(figsize=(15,8))\n",
    "plt.plot(range(1,15),error_rate,color='blue', linestyle='dashed', marker='o',\n",
    "         markerfacecolor='red', markersize=10)\n",
    "plt.title('Error Rate vs. K Value')\n",
    "plt.xlabel('K')\n",
    "plt.ylabel('Error Rate')"
   ]
  },
  {
   "cell_type": "markdown",
   "id": "ab4665a5",
   "metadata": {},
   "source": [
    "# Comparison"
   ]
  },
  {
   "cell_type": "code",
   "execution_count": 15,
   "id": "55de8bef",
   "metadata": {},
   "outputs": [
    {
     "name": "stdout",
     "output_type": "stream",
     "text": [
      "WITH K=3\n",
      "\n",
      "\n",
      "[[ 0  3]\n",
      " [ 1 24]]\n",
      "\n",
      "\n",
      "              precision    recall  f1-score   support\n",
      "\n",
      "           0       0.00      0.00      0.00         3\n",
      "           1       0.89      0.96      0.92        25\n",
      "\n",
      "    accuracy                           0.86        28\n",
      "   macro avg       0.44      0.48      0.46        28\n",
      "weighted avg       0.79      0.86      0.82        28\n",
      "\n"
     ]
    }
   ],
   "source": [
    "knn = KNeighborsClassifier(n_neighbors=3)\n",
    "\n",
    "knn.fit(X_train,y_train)\n",
    "pred = knn.predict(X_test)\n",
    "\n",
    "print('WITH K=3')\n",
    "print('\\n')\n",
    "print(confusion_matrix(y_test,pred))\n",
    "print('\\n')\n",
    "print(classification_report(y_test,pred))"
   ]
  },
  {
   "cell_type": "code",
   "execution_count": 17,
   "id": "74fe01fb",
   "metadata": {},
   "outputs": [
    {
     "name": "stdout",
     "output_type": "stream",
     "text": [
      "WITH K=5\n",
      "\n",
      "\n",
      "[[ 0  3]\n",
      " [ 0 25]]\n",
      "\n",
      "\n",
      "              precision    recall  f1-score   support\n",
      "\n",
      "           0       0.00      0.00      0.00         3\n",
      "           1       0.89      1.00      0.94        25\n",
      "\n",
      "    accuracy                           0.89        28\n",
      "   macro avg       0.45      0.50      0.47        28\n",
      "weighted avg       0.80      0.89      0.84        28\n",
      "\n"
     ]
    }
   ],
   "source": [
    "knn = KNeighborsClassifier(n_neighbors=5)\n",
    "\n",
    "knn.fit(X_train,y_train)\n",
    "pred = knn.predict(X_test)\n",
    "\n",
    "print('WITH K=5')\n",
    "print('\\n')\n",
    "print(confusion_matrix(y_test,pred))\n",
    "print('\\n')\n",
    "print(classification_report(y_test,pred))"
   ]
  },
  {
   "cell_type": "markdown",
   "id": "6d4df0a6",
   "metadata": {},
   "source": [
    "For the k=3 accuracy is 86%\n"
   ]
  },
  {
   "cell_type": "markdown",
   "id": "79516474",
   "metadata": {},
   "source": [
    "For the k=5 accuracy is 89%\n"
   ]
  },
  {
   "cell_type": "markdown",
   "id": "5e28c2cc",
   "metadata": {},
   "source": [
    "From the output we can see that the mean error is minimum when the value of the K is between 5 and 11. I would advise you to play around with the value of K to see how it impacts the accuracy of the predictions."
   ]
  },
  {
   "cell_type": "code",
   "execution_count": null,
   "id": "b20efa54",
   "metadata": {},
   "outputs": [],
   "source": []
  }
 ],
 "metadata": {
  "kernelspec": {
   "display_name": "Python 3 (ipykernel)",
   "language": "python",
   "name": "python3"
  },
  "language_info": {
   "codemirror_mode": {
    "name": "ipython",
    "version": 3
   },
   "file_extension": ".py",
   "mimetype": "text/x-python",
   "name": "python",
   "nbconvert_exporter": "python",
   "pygments_lexer": "ipython3",
   "version": "3.9.7"
  }
 },
 "nbformat": 4,
 "nbformat_minor": 5
}
